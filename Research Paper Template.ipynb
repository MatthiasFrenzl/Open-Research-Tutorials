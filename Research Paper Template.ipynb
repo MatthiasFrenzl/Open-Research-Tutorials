{
 "cells": [
  {
   "cell_type": "markdown",
   "id": "9bdf9b93-fe8d-4749-8c89-95bac55aea3a",
   "metadata": {},
   "source": [
    "# Manuscript template\n"
   ]
  },
  {
   "cell_type": "markdown",
   "id": "02e41870-d3e7-4b41-9603-076a7c12d306",
   "metadata": {},
   "source": [
    "## Title"
   ]
  },
  {
   "cell_type": "markdown",
   "id": "b3cb02b5-5c36-4440-af29-a13d825b3e74",
   "metadata": {
    "tags": []
   },
   "source": [
    "```{admonition} Title\n",
    ":class: tip\n",
    "## `Title` is the ultimate summary of a research paper\n",
    "- Title of the activity\n",
    "- Paint a quick picture of the key ideas\n",
    "```"
   ]
  },
  {
   "cell_type": "code",
   "execution_count": 41,
   "id": "0e907353-906b-41b8-bc60-f35450dd8a68",
   "metadata": {},
   "outputs": [],
   "source": [
    "# Input your title here"
   ]
  },
  {
   "cell_type": "markdown",
   "id": "7c0e3c0b-b257-4386-bc65-72fe256389b2",
   "metadata": {},
   "source": [
    "## Abstract"
   ]
  },
  {
   "cell_type": "markdown",
   "id": "f4a0458c-938c-4f72-a5bd-1fd2d474dfad",
   "metadata": {},
   "source": [
    "```{admonition} Abstract\n",
    ":class: tip\n",
    "## `Abstract` - Everything that you would like the casual reader to remember should be there.\n",
    "- (150-300 words)\n",
    "- Focus on what is new - essential ideas, essential numbers. \n",
    "- One fact/idea per sentence. \n",
    "- Everything that you would like the casual reader to remember should be there.\n",
    "```"
   ]
  },
  {
   "cell_type": "markdown",
   "id": "de9b125d-3dbc-42d7-927a-3ddd50efe098",
   "metadata": {},
   "source": [
    "```{admonition} Abstract Introduction\n",
    ":class: tip\n",
    "Start out by defining the area of research \n",
    "\n",
    "**1. What problem did you study and why is it important?**  \n",
    "Always sprinkle your first few paragraphs with words that cause tension.  \n",
    "Tension is valuable to the reader because they will be attracted to it.\n",
    "```"
   ]
  },
  {
   "cell_type": "markdown",
   "id": "61108850-bd41-4dba-b0f5-d26deea2942f",
   "metadata": {
    "tags": []
   },
   "source": [
    "```{admonition} Start with an instability (see McEnerny Structure)\n",
    ":class: tip\n",
    "\n",
    "```"
   ]
  },
  {
   "cell_type": "code",
   "execution_count": 42,
   "id": "c9476e98-79b0-44f0-836a-251a1be9a97a",
   "metadata": {},
   "outputs": [],
   "source": [
    "# Input "
   ]
  },
  {
   "cell_type": "markdown",
   "id": "23310786-46c7-437b-916f-a1809760043e",
   "metadata": {},
   "source": [
    "```{admonition} What are THE CONSEQUENCES of that instability?\n",
    ":class: tip\n",
    "\n",
    "- Most often as the “Costs” of leaving the instability unstable\n",
    "- Sometimes as the “Benefits” of stabilizing it.\n",
    "```"
   ]
  },
  {
   "cell_type": "code",
   "execution_count": 43,
   "id": "961f984f-fc8f-4e4c-b296-8553e76b197b",
   "metadata": {},
   "outputs": [],
   "source": [
    "# Input"
   ]
  },
  {
   "cell_type": "markdown",
   "id": "f7b4c6b8-0f37-46b2-9f8d-a5f9b1b47c45",
   "metadata": {},
   "source": [
    "```{admonition} READERS\n",
    ":class: tip\n",
    "\n",
    "Who constitute a community of discourse defined by their interest in a topic and who will accept or are open to accepting the cost/benefits.\n",
    "\n",
    "```"
   ]
  },
  {
   "cell_type": "code",
   "execution_count": 44,
   "id": "a1545545-4f5e-43f6-9025-979711f8bd89",
   "metadata": {},
   "outputs": [],
   "source": [
    "# Input"
   ]
  },
  {
   "cell_type": "markdown",
   "id": "4a8c02a7-2963-470b-98be-d611ffa22bd8",
   "metadata": {},
   "source": [
    "```{admonition} Abstract Introduction\n",
    ":class: tip\n",
    "\n",
    "**2. And then state the research gap that the article will fill.** \n",
    "```"
   ]
  },
  {
   "cell_type": "code",
   "execution_count": 45,
   "id": "3a6cbe10-f971-4133-9dc7-af8fd332440f",
   "metadata": {},
   "outputs": [],
   "source": [
    "# Input"
   ]
  },
  {
   "cell_type": "markdown",
   "id": "ebc10d48-3b4e-4033-a430-09be7cfcb0c1",
   "metadata": {},
   "source": [
    "```{admonition} Abstract Introduction\n",
    ":class: tip\n",
    "\n",
    "**3. Why we did this research**\n",
    "```"
   ]
  },
  {
   "cell_type": "code",
   "execution_count": 46,
   "id": "914c54c6-705c-4327-b803-25bfcbc0a0d1",
   "metadata": {},
   "outputs": [],
   "source": [
    "# Input"
   ]
  },
  {
   "cell_type": "markdown",
   "id": "485a4af1-0a19-4679-a2f0-85622d86ac87",
   "metadata": {},
   "source": [
    "```{admonition} Abstract Introduction\n",
    ":class: tip\n",
    "\n",
    "**3. Why we did this research**\n",
    "```"
   ]
  },
  {
   "cell_type": "code",
   "execution_count": 47,
   "id": "78984a8f-ad8c-495e-a623-f42a9b07871f",
   "metadata": {},
   "outputs": [],
   "source": [
    "# Input"
   ]
  },
  {
   "cell_type": "markdown",
   "id": "ff446d63-f168-434d-a926-846fb619143d",
   "metadata": {},
   "source": [
    "```{admonition} Abstract - A concise statement of the problem studied\n",
    ":class: tip\n",
    "\n",
    "- Principal Hypothesis\n",
    "- Objectives\n",
    "\n",
    "```"
   ]
  },
  {
   "cell_type": "code",
   "execution_count": 48,
   "id": "14ec0729-ad85-44d0-9b6a-8748bc717118",
   "metadata": {},
   "outputs": [],
   "source": [
    "# Input"
   ]
  },
  {
   "cell_type": "markdown",
   "id": "7b96e3d0-9391-47b7-843d-8ff083a4ebbd",
   "metadata": {},
   "source": [
    "```{admonition} Abstract - A brief explanation of the approach used\n",
    ":class: tip\n",
    "\n",
    "- Methodology\n",
    "- What methods did you use?\n",
    "- This part is often initiated with the words Here we… to indicate the start of a description of one's own work\n",
    "\n",
    "\n",
    "```"
   ]
  },
  {
   "cell_type": "code",
   "execution_count": 49,
   "id": "4932b9fa-756c-4d04-9654-b199df367994",
   "metadata": {},
   "outputs": [],
   "source": [
    "# Input"
   ]
  },
  {
   "cell_type": "markdown",
   "id": "dc961167-4ce5-4703-93f5-8a4c8a3f6524",
   "metadata": {},
   "source": [
    "```{admonition} Abstract - A succinct description of the principal results obtained\n",
    ":class: tip\n",
    "\n",
    "- Result Interprettaion\n",
    "- What were your principal results?\n",
    "- What we found…\n",
    "- The essence of the abstract - a description of the core findings of the study. \n",
    "- This is the make-or-break part which most expert readers are interested in, so take particular care with it.\n",
    "\n",
    "```"
   ]
  },
  {
   "cell_type": "code",
   "execution_count": 50,
   "id": "cb5f719a-69bc-4517-916e-3132d5dc5a43",
   "metadata": {},
   "outputs": [],
   "source": [
    "# Input"
   ]
  },
  {
   "cell_type": "markdown",
   "id": "15465b45-0711-425f-ae09-95d3e18b64f0",
   "metadata": {},
   "source": [
    "```{admonition} Abstract - A summary of the conclusions reached\n",
    ":class: tip\n",
    "\n",
    "- What conclusions can you draw from your results about the problem you studied?\n",
    "- Why are the findings important\n",
    "- End with an interpretation of why the results are both important and useful.\n",
    "\n",
    "```"
   ]
  },
  {
   "cell_type": "code",
   "execution_count": 51,
   "id": "bb559805-42b1-4fcc-a760-678a0b006539",
   "metadata": {},
   "outputs": [],
   "source": [
    "# Input"
   ]
  },
  {
   "cell_type": "markdown",
   "id": "113ba4d7-fb23-486f-a9df-c943f120c5c7",
   "metadata": {},
   "source": [
    "## Final Paper"
   ]
  },
  {
   "cell_type": "code",
   "execution_count": 52,
   "id": "ccb4204f-a3af-4cef-a8f3-5c5d293be57b",
   "metadata": {},
   "outputs": [],
   "source": [
    "# Title"
   ]
  },
  {
   "cell_type": "code",
   "execution_count": 53,
   "id": "1ce436a2-488f-4e2b-8918-27fc3493570a",
   "metadata": {},
   "outputs": [],
   "source": [
    "# Authors"
   ]
  },
  {
   "cell_type": "code",
   "execution_count": 54,
   "id": "3397ffd2-57cf-4963-aa9e-c35b15dee17a",
   "metadata": {},
   "outputs": [],
   "source": [
    "# and their affiliations"
   ]
  },
  {
   "cell_type": "markdown",
   "id": "b66d6e57-930b-4852-9119-6ba14cbed1a2",
   "metadata": {},
   "source": [
    "### Abstract"
   ]
  },
  {
   "cell_type": "code",
   "execution_count": 55,
   "id": "b4758707-11e8-49be-8f48-90bb5a1810f9",
   "metadata": {},
   "outputs": [],
   "source": [
    "# Abstract"
   ]
  },
  {
   "cell_type": "markdown",
   "id": "f9f50007-da11-412f-bdd5-7fc3f4e6d677",
   "metadata": {},
   "source": [
    "```{admonition} Introduction - The objectives of the work.\n",
    ":class: tip\n",
    "\n",
    "Pay particular attention to the opening sentence.\n",
    "\n",
    "```"
   ]
  },
  {
   "cell_type": "code",
   "execution_count": 56,
   "id": "4b77bc12-b85f-4f7f-983c-1d7a1564eb9f",
   "metadata": {},
   "outputs": [],
   "source": [
    "# Input"
   ]
  },
  {
   "cell_type": "markdown",
   "id": "3cad8209-816a-428d-82f4-3d9f696a829f",
   "metadata": {},
   "source": [
    "## Introduction"
   ]
  },
  {
   "cell_type": "markdown",
   "id": "d4228edf-7dc2-4252-836f-db5ab7515424",
   "metadata": {},
   "source": [
    "```{admonition} Introduction - The justification for these objectives\n",
    ":class: tip\n",
    "\n",
    "Why is the work important?\n",
    "\n",
    "```"
   ]
  },
  {
   "cell_type": "markdown",
   "id": "645338d2-9658-4514-b983-502b5d892d40",
   "metadata": {},
   "source": [
    "```{admonition} Introduction - Background\n",
    ":class: tip\n",
    "\n",
    "- Who else has done what?  \n",
    "- How?\n",
    "- What have we done previously?\n",
    "\n",
    "```"
   ]
  },
  {
   "cell_type": "code",
   "execution_count": 57,
   "id": "86f00f75-e66f-4ae9-b681-7103d8a139d7",
   "metadata": {},
   "outputs": [],
   "source": [
    "# Input"
   ]
  },
  {
   "cell_type": "markdown",
   "id": "d95a0759-095b-4f57-8f56-bf4bcccc929e",
   "metadata": {},
   "source": [
    "```{admonition} Introduction - Guidance to the reader\n",
    ":class: tip\n",
    "\n",
    "- What should the reader watch for in the paper?\n",
    "- What strategy did we use?\n",
    "- What are the interesting high points?\n",
    "\n",
    "```"
   ]
  },
  {
   "cell_type": "code",
   "execution_count": 58,
   "id": "b70a0500-0a44-4217-bdfe-bc18341ede64",
   "metadata": {},
   "outputs": [],
   "source": [
    "# Input"
   ]
  },
  {
   "cell_type": "markdown",
   "id": "d9e54117-28ee-4517-b278-3d9458848635",
   "metadata": {},
   "source": [
    "```{admonition} Introduction - Summary/conclusion\n",
    ":class: tip\n",
    "\n",
    "- What should the reader expect as conclusion?\n",
    "- Also include all the sections that will go in the Experimental section (at the level of paragraph subheadings)\n",
    "\n",
    "```"
   ]
  },
  {
   "cell_type": "code",
   "execution_count": 59,
   "id": "7cc9c398-c411-4db3-9a9e-9664d07f4dae",
   "metadata": {},
   "outputs": [],
   "source": [
    "# Input"
   ]
  },
  {
   "cell_type": "markdown",
   "id": "6184c9a8-82f8-4b14-9676-44f0104e2a6c",
   "metadata": {},
   "source": [
    "## Results & Discussion"
   ]
  },
  {
   "cell_type": "markdown",
   "id": "6950d245-420a-44b6-a024-ba84804c6533",
   "metadata": {},
   "source": [
    "```{admonition} Results & Discussion - Synthesis of starting materials\n",
    ":class: tip\n",
    "\n",
    "\n",
    "```"
   ]
  },
  {
   "cell_type": "code",
   "execution_count": 61,
   "id": "45c70604-9c93-410d-bd1f-d3332fb2ed9c",
   "metadata": {},
   "outputs": [],
   "source": [
    "# Input"
   ]
  },
  {
   "cell_type": "markdown",
   "id": "e2b517f6-cfc4-4250-ad15-e2b5f5b0376e",
   "metadata": {},
   "source": [
    "```{admonition} Results & Discussion - Characterization of products\n",
    ":class: tip\n",
    "\n",
    "\n",
    "```"
   ]
  },
  {
   "cell_type": "code",
   "execution_count": 62,
   "id": "33369cd8-757f-49a3-ab3d-41de28d1b89e",
   "metadata": {},
   "outputs": [],
   "source": [
    "# Input"
   ]
  },
  {
   "cell_type": "markdown",
   "id": "5ef2e33b-b612-4e84-8b68-b1317cfdaf68",
   "metadata": {},
   "source": [
    "```{admonition} Results & Discussion - Methods of characterization\n",
    ":class: tip\n",
    "\n",
    "\n",
    "```"
   ]
  },
  {
   "cell_type": "code",
   "execution_count": 63,
   "id": "42ed90eb-fae4-46bb-9ecd-27deb7d42a45",
   "metadata": {},
   "outputs": [],
   "source": [
    "# Input"
   ]
  },
  {
   "cell_type": "markdown",
   "id": "3634e30c-514e-4acf-8ce9-30ffe854b317",
   "metadata": {},
   "source": [
    "```{admonition} Results & Discussion - Methods of measurement\n",
    ":class: tip\n",
    "\n",
    "```"
   ]
  },
  {
   "cell_type": "code",
   "execution_count": 64,
   "id": "00786cc3-5395-4913-a123-a4b15044c33f",
   "metadata": {},
   "outputs": [],
   "source": [
    "# Input"
   ]
  },
  {
   "cell_type": "markdown",
   "id": "43ce4758-a765-4330-bca3-0d1704e4ac2e",
   "metadata": {},
   "source": [
    "```{admonition} Results & Discussion - Results\n",
    ":class: tip\n",
    "\n",
    "```"
   ]
  },
  {
   "cell_type": "code",
   "execution_count": 65,
   "id": "e30c1154-a104-49db-8751-2af252bce34c",
   "metadata": {},
   "outputs": [],
   "source": [
    "# Input"
   ]
  },
  {
   "cell_type": "markdown",
   "id": "343d6f27-ad37-45ff-979b-65e3d88ff459",
   "metadata": {},
   "source": [
    "```{admonition} tbd\n",
    ":class: tip\n",
    "\n",
    "tbd\n",
    "\n",
    "```"
   ]
  },
  {
   "cell_type": "code",
   "execution_count": 66,
   "id": "1b1c6f6e-03c3-4d06-adce-42324639f768",
   "metadata": {},
   "outputs": [],
   "source": [
    "# Input"
   ]
  },
  {
   "cell_type": "markdown",
   "id": "133df2fc-fbf6-4bdd-843c-bd5e6b2c3a98",
   "metadata": {},
   "source": [
    "## Conclusion"
   ]
  },
  {
   "cell_type": "markdown",
   "id": "ed528006-d4a1-4dfe-a4f6-629e36cd9ab2",
   "metadata": {},
   "source": [
    "```{admonition} Results & Discussion - Results\n",
    ":class: tip\n",
    "\n",
    "- summarize the conclusions of the paper as a list of short phrases or sentences.\n",
    "- Do not repeat what is in the Results section, unless special emphasis is needed.\n",
    "- The Conclusions section should be just that, and not a summary.\n",
    "\n",
    "\n",
    "\n",
    "```"
   ]
  },
  {
   "cell_type": "code",
   "execution_count": 67,
   "id": "3621d427-662a-43ed-a950-74985ce6cbec",
   "metadata": {},
   "outputs": [],
   "source": [
    "# Input"
   ]
  },
  {
   "cell_type": "markdown",
   "id": "42be0f19-4ca6-4f34-8259-52c629537509",
   "metadata": {},
   "source": [
    "..."
   ]
  },
  {
   "cell_type": "markdown",
   "id": "1863bb2e-2517-4120-a7ee-1c3223fd243d",
   "metadata": {},
   "source": [
    "[*These authors contributed equally to his work](https://journals.plos.org/ploscompbiol/article?id=10.1371/journal.pcbi.1005510)"
   ]
  },
  {
   "cell_type": "markdown",
   "id": "b39e464f-718d-4d00-b7f7-ec85ce968560",
   "metadata": {},
   "source": [
    "**Code and data availability.** All data and codes can be accessed at https://github.com/ashesh6810/RCESN_spatio_temporal (Chattopadhya, 2020)."
   ]
  },
  {
   "cell_type": "markdown",
   "id": "20e51f48-c98d-4a6a-a203-4b507849831c",
   "metadata": {},
   "source": [
    "**Author contributions.** All authors developed the idea. PH designed and supervised the study. AC, with help from DS, developed the machine-learning codes. All authors discussed the results and revised the paper."
   ]
  },
  {
   "cell_type": "markdown",
   "id": "81ff1041-09f7-483e-a513-0f9aa10e9d09",
   "metadata": {},
   "source": [
    "**Competing interests.** The authors declare that they have no conﬂict of interest."
   ]
  },
  {
   "cell_type": "markdown",
   "id": "bfd71bf0-9206-4142-acb7-d88152d92d1f",
   "metadata": {},
   "source": [
    "Github Link"
   ]
  },
  {
   "cell_type": "markdown",
   "id": "6a31a359-28df-4ea4-8a46-319630d996f5",
   "metadata": {},
   "source": [
    "Zenodo Link"
   ]
  }
 ],
 "metadata": {
  "kernelspec": {
   "display_name": "Python 3 (ipykernel)",
   "language": "python",
   "name": "python3"
  },
  "language_info": {
   "codemirror_mode": {
    "name": "ipython",
    "version": 3
   },
   "file_extension": ".py",
   "mimetype": "text/x-python",
   "name": "python",
   "nbconvert_exporter": "python",
   "pygments_lexer": "ipython3",
   "version": "3.8.5"
  },
  "toc-showmarkdowntxt": false
 },
 "nbformat": 4,
 "nbformat_minor": 5
}
